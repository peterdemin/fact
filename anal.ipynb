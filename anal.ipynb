{
 "cells": [
  {
   "cell_type": "code",
   "execution_count": 1,
   "id": "50eca8c4-b311-430f-96d7-3db3e1de2034",
   "metadata": {},
   "outputs": [],
   "source": [
    "import re\n",
    "import json\n",
    "import collections"
   ]
  },
  {
   "cell_type": "code",
   "execution_count": 2,
   "id": "8cb79f9c-4ab8-40b8-9463-3b0dd4d8a441",
   "metadata": {},
   "outputs": [],
   "source": [
    "RESULTS_PATH = 'results.jsonl'"
   ]
  },
  {
   "cell_type": "code",
   "execution_count": 3,
   "id": "cf36a364-8004-40f6-b39d-0e2022664196",
   "metadata": {},
   "outputs": [],
   "source": [
    "def load_results(file_path):\n",
    "    with open(file_path, 'rt', encoding='utf-8') as fobj:\n",
    "        for line in fobj:\n",
    "            yield json.loads(line)"
   ]
  },
  {
   "cell_type": "code",
   "execution_count": 4,
   "id": "9cf09f71-6bda-4ce8-af77-56ceb6807f98",
   "metadata": {},
   "outputs": [
    {
     "data": {
      "text/plain": [
       "Counter({'X:': 375, 'Y:': 369})"
      ]
     },
     "execution_count": 4,
     "metadata": {},
     "output_type": "execute_result"
    }
   ],
   "source": [
    "collections.Counter(result['answer'] for result in load_results(RESULTS_PATH))"
   ]
  },
  {
   "cell_type": "code",
   "execution_count": 5,
   "id": "aaea1b19-acce-4476-b7e2-686fb90139c1",
   "metadata": {},
   "outputs": [
    {
     "data": {
      "text/plain": [
       "Counter({('B', True): 341,\n",
       "         ('A', False): 338,\n",
       "         ('B', False): 34,\n",
       "         ('A', True): 31})"
      ]
     },
     "execution_count": 5,
     "metadata": {},
     "output_type": "execute_result"
    }
   ],
   "source": [
    "RE_ANSWER = re.compile(r'[ABXY12]')\n",
    "COALESCE = {'1': 'A', '2': 'B', 'A': 'A', 'B': 'B', 'Y': 'A', 'X': 'B'}\n",
    "\n",
    "def parse_answer(answer):\n",
    "    matches = RE_ANSWER.findall(answer)\n",
    "    if matches:\n",
    "        return COALESCE.get(matches[0])\n",
    "    else:\n",
    "        return None\n",
    "\n",
    "collections.Counter(\n",
    "    (parse_answer(result['answer']), result['swap'])\n",
    "    for result in load_results(RESULTS_PATH)\n",
    ")"
   ]
  },
  {
   "cell_type": "code",
   "execution_count": 6,
   "id": "97593984-1e89-4b4e-833f-268e6a3ea8d1",
   "metadata": {},
   "outputs": [
    {
     "data": {
      "text/plain": [
       "Counter({'B': 375, 'A': 369})"
      ]
     },
     "execution_count": 6,
     "metadata": {},
     "output_type": "execute_result"
    }
   ],
   "source": [
    "collections.Counter(\n",
    "    parse_answer(result['answer'])\n",
    "    for result in load_results(RESULTS_PATH)\n",
    ")"
   ]
  },
  {
   "cell_type": "code",
   "execution_count": 7,
   "id": "73eb3da3-894b-4c22-a1b1-595cf7aec9f5",
   "metadata": {},
   "outputs": [],
   "source": [
    "def is_correct(result):\n",
    "    answer = parse_answer(result['answer'])\n",
    "    if answer is None:\n",
    "        return None\n",
    "    expected = ('B' if result['swap'] else 'A')\n",
    "    return answer == expected"
   ]
  },
  {
   "cell_type": "code",
   "execution_count": 8,
   "id": "1926cecf-7dcc-45f8-9458-737b1f9c1654",
   "metadata": {},
   "outputs": [
    {
     "name": "stdout",
     "output_type": "stream",
     "text": [
      "Accuracy: 84% Breakdown: AB=179  AA=8  BA=11  BB=14  U=0\n"
     ]
    }
   ],
   "source": [
    "def aggregate_swapped_answers(results):\n",
    "    correct_answers = {}\n",
    "    for result in results:\n",
    "        correct_answers.setdefault(result['article_sent'], {})[result['swap']] = is_correct(result)\n",
    "    return correct_answers\n",
    "\n",
    "\n",
    "def stable_score(correct_answers):\n",
    "    score = {\n",
    "        'AB': 0,\n",
    "        'AA': 0,\n",
    "        'BA': 0,\n",
    "        'BB': 0,\n",
    "        'U': 0,\n",
    "    }\n",
    "    for answers in correct_answers.values():\n",
    "        bucket = 'U'\n",
    "        if answers[False] is None or answers[True] is None:\n",
    "            bucket = 'U'\n",
    "        elif answers[False] is True and answers[True] is True:\n",
    "            bucket = 'AB'\n",
    "        elif answers[False] is False and answers[True] is True:\n",
    "            bucket = 'BB'\n",
    "        elif answers[False] is True and answers[True] is False:\n",
    "            bucket = 'AA'\n",
    "        elif answers[False] is False and answers[True] is False:\n",
    "            bucket = 'BA'\n",
    "        score[bucket] += 1\n",
    "    return score\n",
    "\n",
    "\n",
    "scores = stable_score(aggregate_swapped_answers(load_results(RESULTS_PATH)))\n",
    "acc = int(100 * scores['AB'] / sum(scores.values()))\n",
    "scores_fmt = '  '.join(f'{k}={v}' for k, v in scores.items())\n",
    "print(f'Accuracy: {acc}% Breakdown: {scores_fmt}')"
   ]
  },
  {
   "cell_type": "code",
   "execution_count": 9,
   "id": "da842095-9d47-49cf-80d3-facb795f097b",
   "metadata": {},
   "outputs": [
    {
     "data": {
      "text/plain": [
       "Counter({True: 679, False: 65})"
      ]
     },
     "execution_count": 9,
     "metadata": {},
     "output_type": "execute_result"
    }
   ],
   "source": [
    "collections.Counter(\n",
    "    is_correct(result)\n",
    "    for result in load_results(RESULTS_PATH)\n",
    ")"
   ]
  }
 ],
 "metadata": {
  "kernelspec": {
   "display_name": "Python 3 (ipykernel)",
   "language": "python",
   "name": "python3"
  },
  "language_info": {
   "codemirror_mode": {
    "name": "ipython",
    "version": 3
   },
   "file_extension": ".py",
   "mimetype": "text/x-python",
   "name": "python",
   "nbconvert_exporter": "python",
   "pygments_lexer": "ipython3",
   "version": "3.10.12"
  }
 },
 "nbformat": 4,
 "nbformat_minor": 5
}
